{
  "nbformat": 4,
  "nbformat_minor": 0,
  "metadata": {
    "colab": {
      "provenance": [],
      "authorship_tag": "ABX9TyMQPWL7esB9Ise6Exwt516N",
      "include_colab_link": true
    },
    "kernelspec": {
      "name": "python3",
      "display_name": "Python 3"
    },
    "language_info": {
      "name": "python"
    }
  },
  "cells": [
    {
      "cell_type": "markdown",
      "metadata": {
        "id": "view-in-github",
        "colab_type": "text"
      },
      "source": [
        "<a href=\"https://colab.research.google.com/github/harshnsolanki/Machine_Learning_Part_1/blob/main/Numpy_Tutorial.ipynb\" target=\"_parent\"><img src=\"https://colab.research.google.com/assets/colab-badge.svg\" alt=\"Open In Colab\"/></a>"
      ]
    },
    {
      "cell_type": "code",
      "execution_count": 1,
      "metadata": {
        "id": "WKPTB6WKDQwd"
      },
      "outputs": [],
      "source": [
        "import numpy as np\n",
        "import random"
      ]
    },
    {
      "cell_type": "markdown",
      "source": [
        "Creating a numpy array with random values"
      ],
      "metadata": {
        "id": "mbzftRnVDlvP"
      }
    },
    {
      "cell_type": "code",
      "source": [
        "np.random.randint(1,10,size=(5,5))"
      ],
      "metadata": {
        "colab": {
          "base_uri": "https://localhost:8080/"
        },
        "id": "BUjuZTolDd7Y",
        "outputId": "e7e509e3-d524-48f3-dad6-adca28346005"
      },
      "execution_count": 2,
      "outputs": [
        {
          "output_type": "execute_result",
          "data": {
            "text/plain": [
              "array([[2, 8, 6, 3, 8],\n",
              "       [9, 6, 9, 5, 3],\n",
              "       [8, 3, 5, 7, 2],\n",
              "       [6, 3, 7, 7, 5],\n",
              "       [6, 5, 3, 9, 6]])"
            ]
          },
          "metadata": {},
          "execution_count": 2
        }
      ]
    },
    {
      "cell_type": "markdown",
      "source": [
        "Array of evenly spaced values --> Specifying numbers that we want"
      ],
      "metadata": {
        "id": "gAspzh3TENSD"
      }
    },
    {
      "cell_type": "code",
      "source": [
        "np.linspace(10,100,10)"
      ],
      "metadata": {
        "colab": {
          "base_uri": "https://localhost:8080/"
        },
        "id": "UaxpTO_qEGAQ",
        "outputId": "f519c459-c0bb-4a8f-9d54-ce215cea208b"
      },
      "execution_count": 3,
      "outputs": [
        {
          "output_type": "execute_result",
          "data": {
            "text/plain": [
              "array([ 10.,  20.,  30.,  40.,  50.,  60.,  70.,  80.,  90., 100.])"
            ]
          },
          "metadata": {},
          "execution_count": 3
        }
      ]
    },
    {
      "cell_type": "markdown",
      "source": [
        "Array of evenly spaced values -> Specifying steps"
      ],
      "metadata": {
        "id": "5FfblWazFrSA"
      }
    },
    {
      "cell_type": "code",
      "source": [
        "np.arange(10,50,5)"
      ],
      "metadata": {
        "colab": {
          "base_uri": "https://localhost:8080/"
        },
        "id": "Qxm2_mfqGGt9",
        "outputId": "c734469a-f356-4d44-f1bb-561adf55d879"
      },
      "execution_count": 4,
      "outputs": [
        {
          "output_type": "execute_result",
          "data": {
            "text/plain": [
              "array([10, 15, 20, 25, 30, 35, 40, 45])"
            ]
          },
          "metadata": {},
          "execution_count": 4
        }
      ]
    },
    {
      "cell_type": "code",
      "source": [
        "# Converting a list into numpy array\n",
        "\n",
        "lst = [1,2,3,4,5,6,7,8,9]\n",
        "print(type(lst), \" Values:\", lst)\n",
        "\n",
        "n_lst = np.array(lst)\n",
        "print(type(n_lst), \" Values:\", n_lst)"
      ],
      "metadata": {
        "colab": {
          "base_uri": "https://localhost:8080/"
        },
        "id": "0Hc7LaIKHXh_",
        "outputId": "55184739-0391-4f4b-e618-2cac5a24cd47"
      },
      "execution_count": 5,
      "outputs": [
        {
          "output_type": "stream",
          "name": "stdout",
          "text": [
            "<class 'list'>  Values: [1, 2, 3, 4, 5, 6, 7, 8, 9]\n",
            "<class 'numpy.ndarray'>  Values: [1 2 3 4 5 6 7 8 9]\n"
          ]
        }
      ]
    },
    {
      "cell_type": "markdown",
      "source": [
        "Analysing Numpy Array"
      ],
      "metadata": {
        "id": "3YdzicEkILmK"
      }
    },
    {
      "cell_type": "code",
      "source": [
        "n_array = np.random.randint(1,20,size=(5,5))\n",
        "n_array"
      ],
      "metadata": {
        "colab": {
          "base_uri": "https://localhost:8080/"
        },
        "id": "U9WWg_uWIOC2",
        "outputId": "63728b25-612b-4cd3-8755-40f6153ab19f"
      },
      "execution_count": 6,
      "outputs": [
        {
          "output_type": "execute_result",
          "data": {
            "text/plain": [
              "array([[17, 15, 10,  2, 11],\n",
              "       [13,  5, 14,  1,  4],\n",
              "       [ 2, 16, 17,  7,  9],\n",
              "       [14, 16,  3,  6, 17],\n",
              "       [ 4,  6,  2, 11, 11]])"
            ]
          },
          "metadata": {},
          "execution_count": 6
        }
      ]
    },
    {
      "cell_type": "code",
      "source": [
        "# array dimension\n",
        "print(np.ndim(n_array)) # For dimension\n",
        "print(np.shape( n_array))"
      ],
      "metadata": {
        "colab": {
          "base_uri": "https://localhost:8080/"
        },
        "id": "eIwp-AQ-IXDK",
        "outputId": "610d43ad-631f-498d-cdef-1649e1fa20b3"
      },
      "execution_count": 7,
      "outputs": [
        {
          "output_type": "stream",
          "name": "stdout",
          "text": [
            "2\n",
            "(5, 5)\n"
          ]
        }
      ]
    },
    {
      "cell_type": "code",
      "source": [
        "# Number of elements in the array\n",
        "np.size(n_array)"
      ],
      "metadata": {
        "colab": {
          "base_uri": "https://localhost:8080/"
        },
        "id": "odWJVLhlIhoe",
        "outputId": "f4b643d6-8c34-430c-bcf0-414f78e53476"
      },
      "execution_count": 8,
      "outputs": [
        {
          "output_type": "execute_result",
          "data": {
            "text/plain": [
              "25"
            ]
          },
          "metadata": {},
          "execution_count": 8
        }
      ]
    },
    {
      "cell_type": "code",
      "source": [
        "# Checking the datatype values in the array\n",
        "print(n_array.dtype)"
      ],
      "metadata": {
        "colab": {
          "base_uri": "https://localhost:8080/"
        },
        "id": "IWnR3zR6I-6D",
        "outputId": "1b2998d5-e36e-4f63-fe79-d9a4d98aae77"
      },
      "execution_count": 9,
      "outputs": [
        {
          "output_type": "stream",
          "name": "stdout",
          "text": [
            "int64\n"
          ]
        }
      ]
    },
    {
      "cell_type": "markdown",
      "source": [
        "Mathemetical Operations on NumpyArray"
      ],
      "metadata": {
        "id": "Fx1DKmFfJxIC"
      }
    },
    {
      "cell_type": "code",
      "source": [
        "list1 = [1,2,3,4,5]\n",
        "list2 = [6,7,8,9,10]\n",
        "\n",
        "print(list1 + list2)    # it will concate two lists"
      ],
      "metadata": {
        "colab": {
          "base_uri": "https://localhost:8080/"
        },
        "id": "xoablASCJZZN",
        "outputId": "358deb6f-cc6a-4267-e597-6c2146e98dca"
      },
      "execution_count": 10,
      "outputs": [
        {
          "output_type": "stream",
          "name": "stdout",
          "text": [
            "[1, 2, 3, 4, 5, 6, 7, 8, 9, 10]\n"
          ]
        }
      ]
    },
    {
      "cell_type": "code",
      "source": [
        "np.array(list1) + np.array(list2)"
      ],
      "metadata": {
        "colab": {
          "base_uri": "https://localhost:8080/"
        },
        "id": "sD5Tuz34J8zv",
        "outputId": "4d4f8e41-1b63-4d60-ecb5-17b3bf8eb59d"
      },
      "execution_count": 11,
      "outputs": [
        {
          "output_type": "execute_result",
          "data": {
            "text/plain": [
              "array([ 7,  9, 11, 13, 15])"
            ]
          },
          "metadata": {},
          "execution_count": 11
        }
      ]
    },
    {
      "cell_type": "code",
      "source": [
        "a = np.random.randint(0,10,size=(3,3))\n",
        "b = np.random.randint(10,20,size=(3,3))\n",
        "print(a)\n",
        "print(b)"
      ],
      "metadata": {
        "colab": {
          "base_uri": "https://localhost:8080/"
        },
        "id": "vLDQxtgMKKuD",
        "outputId": "4398d6ee-728f-4d7f-ad55-0ce16d032178"
      },
      "execution_count": 12,
      "outputs": [
        {
          "output_type": "stream",
          "name": "stdout",
          "text": [
            "[[0 3 2]\n",
            " [6 1 7]\n",
            " [8 8 3]]\n",
            "[[15 19 17]\n",
            " [15 10 14]\n",
            " [19 19 11]]\n"
          ]
        }
      ]
    },
    {
      "cell_type": "code",
      "source": [
        "np.array(a+b)    # Element wise addition"
      ],
      "metadata": {
        "colab": {
          "base_uri": "https://localhost:8080/"
        },
        "id": "uf64MB74KYuu",
        "outputId": "03dc4090-7bb9-40fc-95f4-d2d160a16a37"
      },
      "execution_count": 13,
      "outputs": [
        {
          "output_type": "execute_result",
          "data": {
            "text/plain": [
              "array([[15, 22, 19],\n",
              "       [21, 11, 21],\n",
              "       [27, 27, 14]])"
            ]
          },
          "metadata": {},
          "execution_count": 13
        }
      ]
    },
    {
      "cell_type": "code",
      "source": [
        "print(a-b)\n",
        "print(a*b)\n",
        "print(a/b)"
      ],
      "metadata": {
        "colab": {
          "base_uri": "https://localhost:8080/"
        },
        "id": "L2i9uq5DKmOG",
        "outputId": "1a0e78a8-103b-48d9-8592-9b20a3b0808d"
      },
      "execution_count": 14,
      "outputs": [
        {
          "output_type": "stream",
          "name": "stdout",
          "text": [
            "[[-15 -16 -15]\n",
            " [ -9  -9  -7]\n",
            " [-11 -11  -8]]\n",
            "[[  0  57  34]\n",
            " [ 90  10  98]\n",
            " [152 152  33]]\n",
            "[[0.         0.15789474 0.11764706]\n",
            " [0.4        0.1        0.5       ]\n",
            " [0.42105263 0.42105263 0.27272727]]\n"
          ]
        }
      ]
    },
    {
      "cell_type": "code",
      "source": [
        "print(np.add(a,b))\n",
        "print(np.subtract(a,b))\n",
        "print(np.multiply(a,b))\n",
        "print(np.divide(a,b))"
      ],
      "metadata": {
        "colab": {
          "base_uri": "https://localhost:8080/"
        },
        "id": "VeHAC5kwK2ix",
        "outputId": "cd729f06-4548-4ac2-dfe7-4141e960be18"
      },
      "execution_count": 15,
      "outputs": [
        {
          "output_type": "stream",
          "name": "stdout",
          "text": [
            "[[15 22 19]\n",
            " [21 11 21]\n",
            " [27 27 14]]\n",
            "[[-15 -16 -15]\n",
            " [ -9  -9  -7]\n",
            " [-11 -11  -8]]\n",
            "[[  0  57  34]\n",
            " [ 90  10  98]\n",
            " [152 152  33]]\n",
            "[[0.         0.15789474 0.11764706]\n",
            " [0.4        0.1        0.5       ]\n",
            " [0.42105263 0.42105263 0.27272727]]\n"
          ]
        }
      ]
    },
    {
      "cell_type": "markdown",
      "source": [
        "Array Manuplation"
      ],
      "metadata": {
        "id": "pRcDIGFjQJHi"
      }
    },
    {
      "cell_type": "code",
      "source": [
        "array_1 = np.random.randint(0,10,(2,3))\n",
        "print(array_1)\n",
        "print(array_1.shape)"
      ],
      "metadata": {
        "colab": {
          "base_uri": "https://localhost:8080/"
        },
        "id": "6EUwy-6fQIUZ",
        "outputId": "384af1b6-ad83-413a-bb55-ae1f384291de"
      },
      "execution_count": 16,
      "outputs": [
        {
          "output_type": "stream",
          "name": "stdout",
          "text": [
            "[[7 0 3]\n",
            " [9 9 9]]\n",
            "(2, 3)\n"
          ]
        }
      ]
    },
    {
      "cell_type": "code",
      "source": [
        "# Tarnspose of an array\n",
        "trans_array_1 = np.transpose(array_1)\n",
        "print(trans_array_1)\n",
        "print(trans_array_1.shape)\n",
        "print(trans_array_1.dtype)"
      ],
      "metadata": {
        "id": "C4c1vVV8K5wA",
        "colab": {
          "base_uri": "https://localhost:8080/"
        },
        "outputId": "852cebea-8646-4725-f340-1eea1e7b9e68"
      },
      "execution_count": 20,
      "outputs": [
        {
          "output_type": "stream",
          "name": "stdout",
          "text": [
            "[[7 9]\n",
            " [0 9]\n",
            " [3 9]]\n",
            "(3, 2)\n",
            "int64\n"
          ]
        }
      ]
    },
    {
      "cell_type": "code",
      "source": [
        "# reshaping the arrray\n",
        "a = np.random.randint(0,10,(2,3))\n",
        "print(a)\n",
        "print(a.shape)"
      ],
      "metadata": {
        "colab": {
          "base_uri": "https://localhost:8080/"
        },
        "id": "XVUXOM9CQv4u",
        "outputId": "ca432b66-c55f-4b20-ba1b-7a87c9faec0a"
      },
      "execution_count": 22,
      "outputs": [
        {
          "output_type": "stream",
          "name": "stdout",
          "text": [
            "[[2 8 3]\n",
            " [1 4 9]]\n",
            "(2, 3)\n"
          ]
        }
      ]
    },
    {
      "cell_type": "code",
      "source": [
        "b = a.reshape((3,2))\n",
        "print(b)"
      ],
      "metadata": {
        "colab": {
          "base_uri": "https://localhost:8080/"
        },
        "id": "Z1TULpaQShya",
        "outputId": "c3b136f7-122e-4bf0-e7ec-99b55a0f3e09"
      },
      "execution_count": 24,
      "outputs": [
        {
          "output_type": "stream",
          "name": "stdout",
          "text": [
            "[[2 8]\n",
            " [3 1]\n",
            " [4 9]]\n"
          ]
        }
      ]
    },
    {
      "cell_type": "code",
      "source": [],
      "metadata": {
        "id": "eVPsvwJASuVO"
      },
      "execution_count": null,
      "outputs": []
    }
  ]
}