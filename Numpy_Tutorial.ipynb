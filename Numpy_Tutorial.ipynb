{
  "nbformat": 4,
  "nbformat_minor": 0,
  "metadata": {
    "colab": {
      "provenance": [],
      "authorship_tag": "ABX9TyNJ1c+6gHr7t4W0QF76lKI1",
      "include_colab_link": true
    },
    "kernelspec": {
      "name": "python3",
      "display_name": "Python 3"
    },
    "language_info": {
      "name": "python"
    }
  },
  "cells": [
    {
      "cell_type": "markdown",
      "metadata": {
        "id": "view-in-github",
        "colab_type": "text"
      },
      "source": [
        "<a href=\"https://colab.research.google.com/github/harshnsolanki/Machine_Learning_Part_1/blob/main/Numpy_Tutorial.ipynb\" target=\"_parent\"><img src=\"https://colab.research.google.com/assets/colab-badge.svg\" alt=\"Open In Colab\"/></a>"
      ]
    },
    {
      "cell_type": "code",
      "execution_count": 2,
      "metadata": {
        "id": "WKPTB6WKDQwd"
      },
      "outputs": [],
      "source": [
        "import numpy as np\n",
        "import random"
      ]
    },
    {
      "cell_type": "markdown",
      "source": [
        "Creating a numpy array with random values"
      ],
      "metadata": {
        "id": "mbzftRnVDlvP"
      }
    },
    {
      "cell_type": "code",
      "source": [
        "np.random.randint(1,10,size=(5,5))"
      ],
      "metadata": {
        "colab": {
          "base_uri": "https://localhost:8080/"
        },
        "id": "BUjuZTolDd7Y",
        "outputId": "c8db537b-6cb7-4f1b-b0ce-79612336f6a1"
      },
      "execution_count": 4,
      "outputs": [
        {
          "output_type": "execute_result",
          "data": {
            "text/plain": [
              "array([[1, 5, 2, 6, 4],\n",
              "       [8, 2, 4, 8, 5],\n",
              "       [8, 1, 1, 6, 1],\n",
              "       [2, 9, 8, 3, 6],\n",
              "       [1, 4, 8, 1, 3]])"
            ]
          },
          "metadata": {},
          "execution_count": 4
        }
      ]
    },
    {
      "cell_type": "markdown",
      "source": [
        "Array of evenly spaced values --> Specifying numbers that we want"
      ],
      "metadata": {
        "id": "gAspzh3TENSD"
      }
    },
    {
      "cell_type": "code",
      "source": [
        "np.linspace(10,100,10)"
      ],
      "metadata": {
        "colab": {
          "base_uri": "https://localhost:8080/"
        },
        "id": "UaxpTO_qEGAQ",
        "outputId": "c09af6ed-2ed0-4683-f1d8-4811a88954f7"
      },
      "execution_count": 11,
      "outputs": [
        {
          "output_type": "execute_result",
          "data": {
            "text/plain": [
              "array([ 10.,  20.,  30.,  40.,  50.,  60.,  70.,  80.,  90., 100.])"
            ]
          },
          "metadata": {},
          "execution_count": 11
        }
      ]
    },
    {
      "cell_type": "markdown",
      "source": [
        "Array of evenly spaced values -> Specifying steps"
      ],
      "metadata": {
        "id": "5FfblWazFrSA"
      }
    },
    {
      "cell_type": "code",
      "source": [
        "np.arange(10,50,5)"
      ],
      "metadata": {
        "colab": {
          "base_uri": "https://localhost:8080/"
        },
        "id": "Qxm2_mfqGGt9",
        "outputId": "9a10ce5b-87a2-4195-a44b-14c2c429b2f3"
      },
      "execution_count": 12,
      "outputs": [
        {
          "output_type": "execute_result",
          "data": {
            "text/plain": [
              "array([10, 15, 20, 25, 30, 35, 40, 45])"
            ]
          },
          "metadata": {},
          "execution_count": 12
        }
      ]
    },
    {
      "cell_type": "code",
      "source": [
        "# Converting a list into numpy array\n",
        "\n",
        "lst = [1,2,3,4,5,6,7,8,9]\n",
        "print(type(lst), \" Values:\", lst)\n",
        "\n",
        "n_lst = np.array(lst)\n",
        "print(type(n_lst), \" Values:\", n_lst)"
      ],
      "metadata": {
        "colab": {
          "base_uri": "https://localhost:8080/"
        },
        "id": "0Hc7LaIKHXh_",
        "outputId": "3b0eb922-fcf3-465b-c44d-8e2d06157043"
      },
      "execution_count": 14,
      "outputs": [
        {
          "output_type": "stream",
          "name": "stdout",
          "text": [
            "<class 'list'>  Values: [1, 2, 3, 4, 5, 6, 7, 8, 9]\n",
            "<class 'numpy.ndarray'>  Values: [1 2 3 4 5 6 7 8 9]\n"
          ]
        }
      ]
    },
    {
      "cell_type": "markdown",
      "source": [
        "Analysing Numpy Array"
      ],
      "metadata": {
        "id": "3YdzicEkILmK"
      }
    },
    {
      "cell_type": "code",
      "source": [
        "n_array = np.random.randint(1,20,size=(5,5))\n",
        "n_array"
      ],
      "metadata": {
        "colab": {
          "base_uri": "https://localhost:8080/"
        },
        "id": "U9WWg_uWIOC2",
        "outputId": "6875d22a-c481-4474-c6a6-c224116fbb8a"
      },
      "execution_count": 16,
      "outputs": [
        {
          "output_type": "execute_result",
          "data": {
            "text/plain": [
              "array([[ 2,  5,  9, 18, 12],\n",
              "       [12,  5, 13,  9, 11],\n",
              "       [18,  4, 18, 12, 14],\n",
              "       [16,  2, 17,  2,  8],\n",
              "       [ 4, 16,  2, 18, 18]])"
            ]
          },
          "metadata": {},
          "execution_count": 16
        }
      ]
    },
    {
      "cell_type": "code",
      "source": [
        "# array dimension\n",
        "print(np.ndim(n_array)) # For dimension\n",
        "print(np.shape( n_array))"
      ],
      "metadata": {
        "colab": {
          "base_uri": "https://localhost:8080/"
        },
        "id": "eIwp-AQ-IXDK",
        "outputId": "2cfaa479-8f37-44b3-86b5-46af2ef51b5f"
      },
      "execution_count": 19,
      "outputs": [
        {
          "output_type": "stream",
          "name": "stdout",
          "text": [
            "2\n",
            "(5, 5)\n"
          ]
        }
      ]
    },
    {
      "cell_type": "code",
      "source": [
        "# Number of elements in the array\n",
        "np.size(n_array)"
      ],
      "metadata": {
        "colab": {
          "base_uri": "https://localhost:8080/"
        },
        "id": "odWJVLhlIhoe",
        "outputId": "7c259d14-bd5f-4431-aca9-5068fb87a26b"
      },
      "execution_count": 20,
      "outputs": [
        {
          "output_type": "execute_result",
          "data": {
            "text/plain": [
              "25"
            ]
          },
          "metadata": {},
          "execution_count": 20
        }
      ]
    },
    {
      "cell_type": "code",
      "source": [
        "# Checking the datatype values in the array\n",
        "print(n_array.dtype)"
      ],
      "metadata": {
        "colab": {
          "base_uri": "https://localhost:8080/"
        },
        "id": "IWnR3zR6I-6D",
        "outputId": "403aef70-ed86-412b-ff46-2b85bf30e589"
      },
      "execution_count": 25,
      "outputs": [
        {
          "output_type": "stream",
          "name": "stdout",
          "text": [
            "int64\n"
          ]
        }
      ]
    },
    {
      "cell_type": "markdown",
      "source": [
        "Mathemetical Operations on NumpyArray"
      ],
      "metadata": {
        "id": "Fx1DKmFfJxIC"
      }
    },
    {
      "cell_type": "code",
      "source": [
        "list1 = [1,2,3,4,5]\n",
        "list2 = [6,7,8,9,10]\n",
        "\n",
        "print(list1 + list2)    # it will concate two lists"
      ],
      "metadata": {
        "colab": {
          "base_uri": "https://localhost:8080/"
        },
        "id": "xoablASCJZZN",
        "outputId": "815f54ca-f512-403a-f3f8-5d1d421b8a34"
      },
      "execution_count": 26,
      "outputs": [
        {
          "output_type": "stream",
          "name": "stdout",
          "text": [
            "[1, 2, 3, 4, 5, 6, 7, 8, 9, 10]\n"
          ]
        }
      ]
    },
    {
      "cell_type": "code",
      "source": [
        "np.array(list1) + np.array(list2)"
      ],
      "metadata": {
        "colab": {
          "base_uri": "https://localhost:8080/"
        },
        "id": "sD5Tuz34J8zv",
        "outputId": "4685e9e8-919b-441b-9ddd-dcb3005eb172"
      },
      "execution_count": 27,
      "outputs": [
        {
          "output_type": "execute_result",
          "data": {
            "text/plain": [
              "array([ 7,  9, 11, 13, 15])"
            ]
          },
          "metadata": {},
          "execution_count": 27
        }
      ]
    },
    {
      "cell_type": "code",
      "source": [
        "a = np.random.randint(0,10,size=(3,3))\n",
        "b = np.random.randint(10,20,size=(3,3))\n",
        "print(a)\n",
        "print(b)"
      ],
      "metadata": {
        "colab": {
          "base_uri": "https://localhost:8080/"
        },
        "id": "vLDQxtgMKKuD",
        "outputId": "f315cd79-e1ec-4cd9-9e30-6e3fa248ec6d"
      },
      "execution_count": 28,
      "outputs": [
        {
          "output_type": "stream",
          "name": "stdout",
          "text": [
            "[[2 8 3]\n",
            " [8 3 0]\n",
            " [5 5 8]]\n",
            "[[19 16 12]\n",
            " [19 12 13]\n",
            " [15 15 19]]\n"
          ]
        }
      ]
    },
    {
      "cell_type": "code",
      "source": [
        "np.array(a+b)    # Element wise addition"
      ],
      "metadata": {
        "colab": {
          "base_uri": "https://localhost:8080/"
        },
        "id": "uf64MB74KYuu",
        "outputId": "85f07bbb-d7e6-4f2c-f30c-5a5b55930821"
      },
      "execution_count": 29,
      "outputs": [
        {
          "output_type": "execute_result",
          "data": {
            "text/plain": [
              "array([[21, 24, 15],\n",
              "       [27, 15, 13],\n",
              "       [20, 20, 27]])"
            ]
          },
          "metadata": {},
          "execution_count": 29
        }
      ]
    },
    {
      "cell_type": "code",
      "source": [
        "print(a-b)\n",
        "print(a*b)\n",
        "print(a/b)"
      ],
      "metadata": {
        "colab": {
          "base_uri": "https://localhost:8080/"
        },
        "id": "L2i9uq5DKmOG",
        "outputId": "8c5f89ee-d394-4866-ccc0-6c7faf2029f9"
      },
      "execution_count": 30,
      "outputs": [
        {
          "output_type": "stream",
          "name": "stdout",
          "text": [
            "[[-17  -8  -9]\n",
            " [-11  -9 -13]\n",
            " [-10 -10 -11]]\n",
            "[[ 38 128  36]\n",
            " [152  36   0]\n",
            " [ 75  75 152]]\n",
            "[[0.10526316 0.5        0.25      ]\n",
            " [0.42105263 0.25       0.        ]\n",
            " [0.33333333 0.33333333 0.42105263]]\n"
          ]
        }
      ]
    },
    {
      "cell_type": "code",
      "source": [
        "print(np.add(a,b))\n",
        "print(np.subtract(a,b))\n",
        "print(np.multiply(a,b))\n",
        "print(np.divide(a,b))"
      ],
      "metadata": {
        "colab": {
          "base_uri": "https://localhost:8080/"
        },
        "id": "VeHAC5kwK2ix",
        "outputId": "9bd87d64-e02e-4453-f422-4c68c9583bb3"
      },
      "execution_count": 35,
      "outputs": [
        {
          "output_type": "stream",
          "name": "stdout",
          "text": [
            "[[21 24 15]\n",
            " [27 15 13]\n",
            " [20 20 27]]\n",
            "[[-17  -8  -9]\n",
            " [-11  -9 -13]\n",
            " [-10 -10 -11]]\n",
            "[[ 38 128  36]\n",
            " [152  36   0]\n",
            " [ 75  75 152]]\n",
            "[[0.10526316 0.5        0.25      ]\n",
            " [0.42105263 0.25       0.        ]\n",
            " [0.33333333 0.33333333 0.42105263]]\n"
          ]
        }
      ]
    },
    {
      "cell_type": "code",
      "source": [],
      "metadata": {
        "id": "C4c1vVV8K5wA"
      },
      "execution_count": null,
      "outputs": []
    }
  ]
}